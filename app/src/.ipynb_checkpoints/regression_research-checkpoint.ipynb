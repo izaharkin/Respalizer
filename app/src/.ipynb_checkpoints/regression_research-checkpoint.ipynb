{
 "cells": [
  {
   "cell_type": "markdown",
   "metadata": {},
   "source": [
    "# Respalizer (c). Data analysis (regression).\n",
    "## Made by Ilya Zakharkin (github.com/izaharkin)."
   ]
  },
  {
   "cell_type": "markdown",
   "metadata": {},
   "source": [
    "## Natural language processing (sentiment analysis)."
   ]
  },
  {
   "cell_type": "markdown",
   "metadata": {},
   "source": [
    "### Data: Given data - responses of people on different bank companies (two features - sentiment (text, in russian) and mark (integer, 1 <= mark <= 5)."
   ]
  },
  {
   "cell_type": "markdown",
   "metadata": {},
   "source": [
    "### Task: We must predict which mark will this person give consider his response."
   ]
  },
  {
   "cell_type": "markdown",
   "metadata": {},
   "source": [
    "#### Useful materials:\n",
    "- scikit-learn example: http://scikit-learn.org/stable/auto_examples/text/document_classification_20newsgroups.html#sphx-glr-auto-examples-text-document-classification-20newsgroups-py\n",
    "- article for beginners: https://habrahabr.ru/company/mlclass/blog/270591/\n",
    "- TJ texts classification: https://habrahabr.ru/post/327072/\n",
    "- MIPT NLP course: https://github.com/canorbal/NLP_MIPT/\n",
    "- Russian language processing research: http://corpus.leeds.ac.uk/mocky/\n",
    "- example with nltk: http://streamhacker.com/2012/11/22/text-classification-sentiment-analysis-nltk-scikitlearn/"
   ]
  },
  {
   "cell_type": "code",
   "execution_count": 1,
   "metadata": {
    "collapsed": false
   },
   "outputs": [],
   "source": [
    "import pandas as pd\n",
    "import numpy as np\n",
    "\n",
    "from matplotlib import pyplot as plt\n",
    "%matplotlib inline\n",
    "\n",
    "import seaborn as sns\n",
    "\n",
    "import sys\n",
    "import joblib\n",
    "import _pickle\n",
    "\n",
    "from sklearn.model_selection import cross_val_score"
   ]
  },
  {
   "cell_type": "code",
   "execution_count": 2,
   "metadata": {
    "collapsed": false
   },
   "outputs": [],
   "source": [
    "data = pd.read_csv('./data/responses_dataset.csv')"
   ]
  },
  {
   "cell_type": "code",
   "execution_count": 3,
   "metadata": {
    "collapsed": false
   },
   "outputs": [
    {
     "data": {
      "text/html": [
       "<div>\n",
       "<table border=\"1\" class=\"dataframe\">\n",
       "  <thead>\n",
       "    <tr style=\"text-align: right;\">\n",
       "      <th></th>\n",
       "      <th>mark</th>\n",
       "      <th>description</th>\n",
       "    </tr>\n",
       "  </thead>\n",
       "  <tbody>\n",
       "    <tr>\n",
       "      <th>0</th>\n",
       "      <td>5</td>\n",
       "      <td>Я имею кредитную карту. Пользуюсь ею длительно...</td>\n",
       "    </tr>\n",
       "    <tr>\n",
       "      <th>1</th>\n",
       "      <td>5</td>\n",
       "      <td>Всем привет! Я в этом банке , как только рухну...</td>\n",
       "    </tr>\n",
       "    <tr>\n",
       "      <th>2</th>\n",
       "      <td>1</td>\n",
       "      <td>Добрый вечер.Был вашим вкладчиком на протяжени...</td>\n",
       "    </tr>\n",
       "    <tr>\n",
       "      <th>3</th>\n",
       "      <td>1</td>\n",
       "      <td>Очень разочарована банком ВТБ24. За смс уведом...</td>\n",
       "    </tr>\n",
       "    <tr>\n",
       "      <th>4</th>\n",
       "      <td>1</td>\n",
       "      <td>Отвратительный банк, и обслуживание. 24.11.201...</td>\n",
       "    </tr>\n",
       "  </tbody>\n",
       "</table>\n",
       "</div>"
      ],
      "text/plain": [
       "   mark                                        description\n",
       "0     5  Я имею кредитную карту. Пользуюсь ею длительно...\n",
       "1     5  Всем привет! Я в этом банке , как только рухну...\n",
       "2     1  Добрый вечер.Был вашим вкладчиком на протяжени...\n",
       "3     1  Очень разочарована банком ВТБ24. За смс уведом...\n",
       "4     1  Отвратительный банк, и обслуживание. 24.11.201..."
      ]
     },
     "execution_count": 3,
     "metadata": {},
     "output_type": "execute_result"
    }
   ],
   "source": [
    "data.head(5)"
   ]
  },
  {
   "cell_type": "code",
   "execution_count": 4,
   "metadata": {
    "collapsed": true
   },
   "outputs": [],
   "source": [
    "new_columns = data.columns.values\n",
    "new_columns[1] = 'sentiment'\n",
    "data.columns = new_columns"
   ]
  },
  {
   "cell_type": "code",
   "execution_count": 5,
   "metadata": {
    "collapsed": false
   },
   "outputs": [
    {
     "data": {
      "text/plain": [
       "<matplotlib.text.Text at 0x7fb9e8fc0668>"
      ]
     },
     "execution_count": 5,
     "metadata": {},
     "output_type": "execute_result"
    },
    {
     "name": "stderr",
     "output_type": "stream",
     "text": [
      "/usr/lib/python3.5/site-packages/matplotlib/font_manager.py:1297: UserWarning: findfont: Font family ['sans-serif'] not found. Falling back to DejaVu Sans\n",
      "  (prop.get_family(), self.defaultFamily[fontext]))\n"
     ]
    },
    {
     "data": {
      "image/png": "[encoded data removed]",
      "text/plain": [
       "<matplotlib.figure.Figure at 0x7fb9ec94ca90>"
      ]
     },
     "metadata": {},
     "output_type": "display_data"
    }
   ],
   "source": [
    "data.mark.value_counts().plot(kind='bar', label='mark', color='orange')\n",
    "plt.legend(fontsize=15)\n",
    "plt.title('Amount of each mark in the sample data')"
   ]
  },
  {
   "cell_type": "markdown",
   "metadata": {},
   "source": [
    "# Regression approach"
   ]
  },
  {
   "cell_type": "code",
   "execution_count": 6,
   "metadata": {
    "collapsed": false
   },
   "outputs": [],
   "source": [
    "from sklearn.feature_extraction.text import TfidfVectorizer\n",
    "\n",
    "from sklearn.metrics import explained_variance_score, mean_absolute_error, mean_squared_error, r2_score"
   ]
  },
  {
   "cell_type": "code",
   "execution_count": 7,
   "metadata": {
    "collapsed": false
   },
   "outputs": [
    {
     "name": "stdout",
     "output_type": "stream",
     "text": [
      "CPU times: user 5.43 s, sys: 0 ns, total: 5.43 s\n",
      "Wall time: 5.46 s\n",
      "(28916, 134520)\n"
     ]
    }
   ],
   "source": [
    "X = data['sentiment']\n",
    "\n",
    "vectorizer = TfidfVectorizer(sublinear_tf=True)\n",
    "\n",
    "%time X = vectorizer.fit_transform(X)\n",
    "print(X.shape)"
   ]
  },
  {
   "cell_type": "code",
   "execution_count": 8,
   "metadata": {
    "collapsed": true
   },
   "outputs": [],
   "source": [
    "y = data['mark']"
   ]
  },
  {
   "cell_type": "markdown",
   "metadata": {},
   "source": [
    "## 1). Linear models:"
   ]
  },
  {
   "cell_type": "code",
   "execution_count": 9,
   "metadata": {
    "collapsed": false
   },
   "outputs": [],
   "source": [
    "from sklearn.linear_model import SGDRegressor\n",
    "from sklearn.linear_model import LogisticRegression\n",
    "from sklearn.linear_model import Ridge, RidgeCV\n",
    "\n",
    "from sklearn.linear_model import ElasticNet\n",
    "from sklearn.linear_model import TheilSenRegressor\n",
    "from sklearn.linear_model import LassoLars, Lars\n",
    "\n",
    "from sklearn.linear_model import PassiveAggressiveRegressor\n",
    "from sklearn.linear_model import OrthogonalMatchingPursuit\n",
    "from sklearn.linear_model.huber import HuberRegressor \n",
    "from sklearn.linear_model import ARDRegression\n",
    "\n",
    "from sklearn.linear_model import BayesianRidge"
   ]
  },
  {
   "cell_type": "markdown",
   "metadata": {},
   "source": [
    "Let's see who is **the best among linear models**.   \n",
    "Let's iterate over all this models and compare them. If we have root_mean_squared_error < 0.5, it will be good enough, because that means that average error of our model < 0.5, so when we will cast our prediction to the nearest integer number, it will be probably the right answer."
   ]
  },
  {
   "cell_type": "code",
   "execution_count": 12,
   "metadata": {
    "collapsed": false
   },
   "outputs": [
    {
     "name": "stdout",
     "output_type": "stream",
     "text": [
      "SGDRegressor(alpha=0.0001, average=False, epsilon=0.1, eta0=0.01,\n",
      "       fit_intercept=True, l1_ratio=0.15, learning_rate='invscaling',\n",
      "       loss='squared_loss', n_iter=5, penalty='l2', power_t=0.25,\n",
      "       random_state=None, shuffle=True, verbose=0, warm_start=False) has rmse = 1.5539 +- 0.0567\n",
      "\n",
      "LogisticRegression(C=1.0, class_weight=None, dual=False, fit_intercept=True,\n",
      "          intercept_scaling=1, max_iter=100, multi_class='ovr', n_jobs=1,\n",
      "          penalty='l2', random_state=None, solver='liblinear', tol=0.0001,\n",
      "          verbose=0, warm_start=False) has rmse = 0.9130 +- 0.0378\n",
      "\n",
      "Ridge(alpha=1.0, copy_X=True, fit_intercept=True, max_iter=None,\n",
      "   normalize=False, random_state=None, solver='auto', tol=0.001) has rmse = 0.8672 +- 0.0202\n",
      "\n",
      "ElasticNet(alpha=1.0, copy_X=True, fit_intercept=True, l1_ratio=0.5,\n",
      "      max_iter=1000, normalize=False, positive=False, precompute=False,\n",
      "      random_state=None, selection='cyclic', tol=0.0001, warm_start=False) has rmse = 1.5917 +- 0.0476\n",
      "\n",
      "PassiveAggressiveRegressor(C=1.0, epsilon=0.1, fit_intercept=True,\n",
      "              loss='epsilon_insensitive', n_iter=5, random_state=None,\n",
      "              shuffle=True, verbose=0, warm_start=False) has rmse = 0.9643 +- 0.0201\n",
      "\n",
      "HuberRegressor(alpha=0.0001, epsilon=1.35, fit_intercept=True, max_iter=100,\n",
      "        tol=1e-05, warm_start=False) has rmse = 0.9169 +- 0.0357\n",
      "\n"
     ]
    }
   ],
   "source": [
    "models = [SGDRegressor(), LogisticRegression(), Ridge(), ElasticNet(), TheilSenRegressor(),\n",
    "          Lars(), LassoLars(), PassiveAggressiveRegressor(), OrthogonalMatchingPursuit(),\n",
    "          HuberRegressor(), ARDRegression(), BayesianRidge()]\n",
    "\n",
    "best_score = -sys.float_info.max\n",
    "best_estimator = ''\n",
    "for model in models:\n",
    "    try:\n",
    "        cv_scores = cross_val_score(model, X, y, scoring='neg_mean_squared_error', cv=5)\n",
    "        cv_mean_score = cv_scores.mean()\n",
    "        print('{0} has rmse = {1:.4f}+-{2:.4f}\\n'.format(str(model), np.sqrt(-cv_mean_score), cv_scores.std()))\n",
    "        if cv_mean_score > best_score:\n",
    "            best_score = cv_mean_score\n",
    "            best_estimator = str(model)\n",
    "    except:\n",
    "        continue  # because some of this models don`t support sparse matrices "
   ]
  },
  {
   "cell_type": "code",
   "execution_count": 14,
   "metadata": {
    "collapsed": false
   },
   "outputs": [
    {
     "name": "stdout",
     "output_type": "stream",
     "text": [
      "Best among linear models is Ridge(alpha=1.0, copy_X=True, fit_intercept=True, max_iter=None,\n",
      "   normalize=False, random_state=None, solver='auto', tol=0.001) with rmse = 0.8672\n"
     ]
    }
   ],
   "source": [
    "print('Best among linear models is {0} with rmse = {1:.4f}'.format(str(best_estimator), np.sqrt(-best_score)))"
   ]
  },
  {
   "cell_type": "markdown",
   "metadata": {},
   "source": [
    "# 2). Ensembles:"
   ]
  },
  {
   "cell_type": "code",
   "execution_count": 64,
   "metadata": {
    "collapsed": false
   },
   "outputs": [],
   "source": [
    "from sklearn.ensemble import AdaBoostRegressor, BaggingRegressor, ExtraTreesRegressor, RandomForestRegressor\n",
    "from sklearn.neighbors import KNeighborsRegressor"
   ]
  },
  {
   "cell_type": "code",
   "execution_count": 68,
   "metadata": {
    "collapsed": false
   },
   "outputs": [
    {
     "name": "stdout",
     "output_type": "stream",
     "text": [
      "ExtraTreesRegressor(bootstrap=False, criterion='mse', max_depth=None,\n",
      "          max_features='auto', max_leaf_nodes=None,\n",
      "          min_impurity_split=1e-07, min_samples_leaf=1,\n",
      "          min_samples_split=2, min_weight_fraction_leaf=0.0,\n",
      "          n_estimators=10, n_jobs=1, oob_score=False, random_state=None,\n",
      "          verbose=0, warm_start=False) has rmse = 0.9742 +- 0.0472\n",
      "RandomForestRegressor(bootstrap=True, criterion='mse', max_depth=None,\n",
      "           max_features='auto', max_leaf_nodes=None,\n",
      "           min_impurity_split=1e-07, min_samples_leaf=1,\n",
      "           min_samples_split=2, min_weight_fraction_leaf=0.0,\n",
      "           n_estimators=10, n_jobs=1, oob_score=False, random_state=None,\n",
      "           verbose=0, warm_start=False) has rmse = 0.9922 +- 0.0428\n"
     ]
    }
   ],
   "source": [
    "models = [ExtraTreesRegressor(), RandomForestRegressor()]\n",
    "# AdaBoostRegressor has rmse = 1.2715 +- 0.0964\n",
    "# BaggingRegressor(KNeighborsRegressor())\n",
    "best_score = -sys.float_info.max\n",
    "best_estimator = ''\n",
    "for model in models:\n",
    "    try:\n",
    "        cv_scores = cross_val_score(model, X, y, scoring='neg_mean_squared_error', cv=5)\n",
    "        cv_mean_score = cv_scores.mean()\n",
    "        print('{0} has rmse = {1:.4f} +- {2:.4f}'.format(str(model), np.sqrt(-cv_mean_score), cv_scores.std()))\n",
    "        if cv_mean_score > best_score:\n",
    "            best_score = cv_mean_score\n",
    "            best_estimator = str(model)\n",
    "    except TypeError:\n",
    "        continue"
   ]
  },
  {
   "cell_type": "markdown",
   "metadata": {
    "collapsed": true
   },
   "source": [
    "So, ensembles are less efficient, than linear models for now."
   ]
  },
  {
   "cell_type": "markdown",
   "metadata": {},
   "source": [
    "Let`s try to vectorize data with **bigrams**:"
   ]
  },
  {
   "cell_type": "code",
   "execution_count": 15,
   "metadata": {
    "collapsed": false
   },
   "outputs": [
    {
     "name": "stdout",
     "output_type": "stream",
     "text": [
      "CPU times: user 26 s, sys: 290 ms, total: 26.3 s\n",
      "Wall time: 26.3 s\n",
      "(28916, 2044247)\n"
     ]
    }
   ],
   "source": [
    "X = data['sentiment']\n",
    "\n",
    "vectorizer = TfidfVectorizer(ngram_range=(1, 2), sublinear_tf=True)\n",
    "\n",
    "%time X = vectorizer.fit_transform(X)\n",
    "print(X.shape)"
   ]
  },
  {
   "cell_type": "code",
   "execution_count": 16,
   "metadata": {
    "collapsed": false
   },
   "outputs": [
    {
     "name": "stdout",
     "output_type": "stream",
     "text": [
      "SGDRegressor(alpha=0.0001, average=False, epsilon=0.1, eta0=0.01,\n",
      "       fit_intercept=True, l1_ratio=0.15, learning_rate='invscaling',\n",
      "       loss='squared_loss', n_iter=5, penalty='l2', power_t=0.25,\n",
      "       random_state=None, shuffle=True, verbose=0, warm_start=False) has rmse = 1.6804+-0.0752\n",
      "\n",
      "LogisticRegression(C=1.0, class_weight=None, dual=False, fit_intercept=True,\n",
      "          intercept_scaling=1, max_iter=100, multi_class='ovr', n_jobs=1,\n",
      "          penalty='l2', random_state=None, solver='liblinear', tol=0.0001,\n",
      "          verbose=0, warm_start=False) has rmse = 1.0044+-0.0523\n",
      "\n",
      "Ridge(alpha=1.0, copy_X=True, fit_intercept=True, max_iter=None,\n",
      "   normalize=False, random_state=None, solver='auto', tol=0.001) has rmse = 0.8691+-0.0216\n",
      "\n",
      "ElasticNet(alpha=1.0, copy_X=True, fit_intercept=True, l1_ratio=0.5,\n",
      "      max_iter=1000, normalize=False, positive=False, precompute=False,\n",
      "      random_state=None, selection='cyclic', tol=0.0001, warm_start=False) has rmse = 1.5917+-0.0476\n",
      "\n",
      "PassiveAggressiveRegressor(C=1.0, epsilon=0.1, fit_intercept=True,\n",
      "              loss='epsilon_insensitive', n_iter=5, random_state=None,\n",
      "              shuffle=True, verbose=0, warm_start=False) has rmse = 0.8516+-0.0204\n",
      "\n",
      "HuberRegressor(alpha=0.0001, epsilon=1.35, fit_intercept=True, max_iter=100,\n",
      "        tol=1e-05, warm_start=False) has rmse = 0.8492+-0.0196\n",
      "\n"
     ]
    }
   ],
   "source": [
    "models = [SGDRegressor(), LogisticRegression(), Ridge(), ElasticNet(), TheilSenRegressor(),\n",
    "          Lars(), LassoLars(), PassiveAggressiveRegressor(), OrthogonalMatchingPursuit(),\n",
    "          HuberRegressor(), ARDRegression(), BayesianRidge()]\n",
    "\n",
    "best_score = -sys.float_info.max\n",
    "best_estimator = ''\n",
    "for model in models:\n",
    "    try:\n",
    "        cv_scores = cross_val_score(model, X, y, scoring='neg_mean_squared_error', cv=5)\n",
    "        cv_mean_score = cv_scores.mean()\n",
    "        print('{0} has rmse = {1:.4f}+-{2:.4f}\\n'.format(str(model), np.sqrt(-cv_mean_score), cv_scores.std()))\n",
    "        if cv_mean_score > best_score:\n",
    "            best_score = cv_mean_score\n",
    "            best_estimator = str(model)\n",
    "    except:\n",
    "        continue  # because some of this models don`t support sparse matrices"
   ]
  },
  {
   "cell_type": "code",
   "execution_count": 17,
   "metadata": {
    "collapsed": false
   },
   "outputs": [
    {
     "name": "stdout",
     "output_type": "stream",
     "text": [
      "Best among linear models, trained on the data with bigrams, is HuberRegressor(alpha=0.0001, epsilon=1.35, fit_intercept=True, max_iter=100,\n",
      "        tol=1e-05, warm_start=False) with rmse = 0.8492\n"
     ]
    }
   ],
   "source": [
    "print('Best among linear models, trained on the data with bigrams, is {0} with rmse = {1:.4f}'\n",
    "      .format(str(best_estimator), np.sqrt(-best_score)))"
   ]
  },
  {
   "cell_type": "markdown",
   "metadata": {},
   "source": [
    "Let`s try to vectorize data with **bigrams and trigrams**:"
   ]
  },
  {
   "cell_type": "code",
   "execution_count": 19,
   "metadata": {
    "collapsed": false
   },
   "outputs": [
    {
     "name": "stdout",
     "output_type": "stream",
     "text": [
      "CPU times: user 56.5 s, sys: 1.03 s, total: 57.5 s\n",
      "Wall time: 57.5 s\n",
      "(28916, 6025327)\n"
     ]
    }
   ],
   "source": [
    "X = data['sentiment']\n",
    "\n",
    "vectorizer = TfidfVectorizer(ngram_range=(1, 3), sublinear_tf=True)\n",
    "\n",
    "%time X = vectorizer.fit_transform(X)\n",
    "print(X.shape)"
   ]
  },
  {
   "cell_type": "code",
   "execution_count": 20,
   "metadata": {
    "collapsed": true
   },
   "outputs": [],
   "source": [
    "y = data['mark']"
   ]
  },
  {
   "cell_type": "code",
   "execution_count": 21,
   "metadata": {
    "collapsed": false
   },
   "outputs": [
    {
     "name": "stdout",
     "output_type": "stream",
     "text": [
      "SGDRegressor(alpha=0.0001, average=False, epsilon=0.1, eta0=0.01,\n",
      "       fit_intercept=True, l1_ratio=0.15, learning_rate='invscaling',\n",
      "       loss='squared_loss', n_iter=5, penalty='l2', power_t=0.25,\n",
      "       random_state=None, shuffle=True, verbose=0, warm_start=False) has rmse = 1.7312+-0.0827\n",
      "\n",
      "LogisticRegression(C=1.0, class_weight=None, dual=False, fit_intercept=True,\n",
      "          intercept_scaling=1, max_iter=100, multi_class='ovr', n_jobs=1,\n",
      "          penalty='l2', random_state=None, solver='liblinear', tol=0.0001,\n",
      "          verbose=0, warm_start=False) has rmse = 1.1243+-0.0551\n",
      "\n",
      "Ridge(alpha=1.0, copy_X=True, fit_intercept=True, max_iter=None,\n",
      "   normalize=False, random_state=None, solver='auto', tol=0.001) has rmse = 0.9072+-0.0233\n",
      "\n",
      "ElasticNet(alpha=1.0, copy_X=True, fit_intercept=True, l1_ratio=0.5,\n",
      "      max_iter=1000, normalize=False, positive=False, precompute=False,\n",
      "      random_state=None, selection='cyclic', tol=0.0001, warm_start=False) has rmse = 1.5917+-0.0476\n",
      "\n",
      "PassiveAggressiveRegressor(C=1.0, epsilon=0.1, fit_intercept=True,\n",
      "              loss='epsilon_insensitive', n_iter=5, random_state=None,\n",
      "              shuffle=True, verbose=0, warm_start=False) has rmse = 0.8660+-0.0224\n",
      "\n"
     ]
    }
   ],
   "source": [
    "models = [SGDRegressor(), LogisticRegression(), Ridge(), ElasticNet(), TheilSenRegressor(),\n",
    "          Lars(), LassoLars(), PassiveAggressiveRegressor(), OrthogonalMatchingPursuit(),\n",
    "          HuberRegressor(), ARDRegression(), BayesianRidge()]\n",
    "\n",
    "best_score = -sys.float_info.max\n",
    "best_estimator = ''\n",
    "for model in models:\n",
    "    try:\n",
    "        cv_scores = cross_val_score(model, X, y, scoring='neg_mean_squared_error', cv=5)\n",
    "        cv_mean_score = cv_scores.mean()\n",
    "        print('{0} has rmse = {1:.4f}+-{2:.4f}\\n'.format(str(model), np.sqrt(-cv_mean_score), cv_scores.std()))\n",
    "        if cv_mean_score > best_score:\n",
    "            best_score = cv_mean_score\n",
    "            best_estimator = str(model)\n",
    "    except:\n",
    "        continue  # because some of this models don`t support sparse matrices"
   ]
  },
  {
   "cell_type": "code",
   "execution_count": 22,
   "metadata": {
    "collapsed": false
   },
   "outputs": [
    {
     "name": "stdout",
     "output_type": "stream",
     "text": [
      "Best among linear models, trained on the data with bigrams and trigrams, is PassiveAggressiveRegressor(C=1.0, epsilon=0.1, fit_intercept=True,\n",
      "              loss='epsilon_insensitive', n_iter=5, random_state=None,\n",
      "              shuffle=True, verbose=0, warm_start=False) with rmse = 0.8660\n"
     ]
    }
   ],
   "source": [
    "print('Best among linear models, trained on the data with bigrams and trigrams, is {0} with rmse = {1:.4f}'\n",
    "      .format(str(best_estimator), np.sqrt(-best_score)))"
   ]
  },
  {
   "cell_type": "code",
   "execution_count": null,
   "metadata": {
    "collapsed": true
   },
   "outputs": [],
   "source": []
  }
 ],
 "metadata": {
  "kernelspec": {
   "display_name": "Python 3",
   "language": "python",
   "name": "python3"
  },
  "language_info": {
   "codemirror_mode": {
    "name": "ipython",
    "version": 3
   },
   "file_extension": ".py",
   "mimetype": "text/x-python",
   "name": "python",
   "nbconvert_exporter": "python",
   "pygments_lexer": "ipython3",
   "version": "3.5.2"
  }
 },
 "nbformat": 4,
 "nbformat_minor": 0
}
